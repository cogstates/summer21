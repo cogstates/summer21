{
 "cells": [
  {
   "cell_type": "code",
   "execution_count": 1,
   "id": "9c27ca23-0fbb-436d-9af6-c37533eb1007",
   "metadata": {},
   "outputs": [],
   "source": [
    "from jadoch.data import costep\n",
    "from jadoch.data.costep import language, contains, starts_with, speaker"
   ]
  },
  {
   "cell_type": "markdown",
   "id": "deb7ed0a-5e7c-4f2b-b9e6-667932f3b5be",
   "metadata": {},
   "source": [
    "### Basics\n",
    "---"
   ]
  },
  {
   "cell_type": "markdown",
   "id": "ec510df1-b9df-4e3d-bfc8-bdd96859fe2b",
   "metadata": {},
   "source": [
    "A particular session can be loaded with `costep.session(\"YYYY-MM-DD\")`."
   ]
  },
  {
   "cell_type": "code",
   "execution_count": 2,
   "id": "62634336-cd65-449a-baac-7504bd21516b",
   "metadata": {},
   "outputs": [
    {
     "data": {
      "text/plain": [
       "{'session': '1996-04-15',\n",
       " 'chapter': '1',\n",
       " 'turn': '1',\n",
       " 'speaker': {'president': 'yes'},\n",
       " 'texts': {'danish': ['Jeg erklærer Europa-Parlamentets session, der blev afbrudt den 28. marts 1996, for genoptaget.'],\n",
       "  'german': ['Ich erkläre die am Donnerstag, den 28. März 1996 unterbrochene Sitzungsperiode des Europäischen Parlaments für wiederaufgenommen.'],\n",
       "  'greek': ['Kηρύσσω την επανάληψη της συνόδου του Eυρωπαϊκού Kοινοβουλίου που είχε διακοπεί την Πέμπτη 28 Mαρτίου 1996.'],\n",
       "  'english': ['I declare resumed the session of the European Parliament adjourned on Thursday, 28 March 1996.'],\n",
       "  'spanish': ['Declaro reanudado el período de sesiones del Parlamento Europeo, interrumpido el 28 de marzo de 1996.'],\n",
       "  'french': ['Je déclare reprise la session du Parlement européen, qui avait été interrompue le jeudi 28 mars 1996.'],\n",
       "  'italian': ['Dichiaro ripresa la sessione del Parlamento europeo interrotta giovedì 28 marzo 1996.'],\n",
       "  'dutch': ['Ik verklaar de zitting van het Europees Parlement, die op donderdag 28 maart 1996 werd onderbroken, te zijn hervat.'],\n",
       "  'portuguese': ['Declaro reaberta a sessão do Parlamento Europeu, que tinha sido interrompida na quinta-feira, dia 28 de Março de 1996.']}}"
      ]
     },
     "execution_count": 2,
     "metadata": {},
     "output_type": "execute_result"
    }
   ],
   "source": [
    "next(costep.session(\"1996-04-15\"))"
   ]
  },
  {
   "cell_type": "markdown",
   "id": "641691dd-239d-4830-b933-37eee71fb2c7",
   "metadata": {},
   "source": [
    "---\n",
    "Alternatively, every session can be searched by calling `costep.speeches()`."
   ]
  },
  {
   "cell_type": "code",
   "execution_count": 3,
   "id": "54663f23-a284-44c3-a6a8-bf1bef147b62",
   "metadata": {},
   "outputs": [
    {
     "data": {
      "text/plain": [
       "{'session': '1996-04-15',\n",
       " 'chapter': '1',\n",
       " 'turn': '1',\n",
       " 'speaker': {'president': 'yes'},\n",
       " 'texts': {'danish': ['Jeg erklærer Europa-Parlamentets session, der blev afbrudt den 28. marts 1996, for genoptaget.'],\n",
       "  'german': ['Ich erkläre die am Donnerstag, den 28. März 1996 unterbrochene Sitzungsperiode des Europäischen Parlaments für wiederaufgenommen.'],\n",
       "  'greek': ['Kηρύσσω την επανάληψη της συνόδου του Eυρωπαϊκού Kοινοβουλίου που είχε διακοπεί την Πέμπτη 28 Mαρτίου 1996.'],\n",
       "  'english': ['I declare resumed the session of the European Parliament adjourned on Thursday, 28 March 1996.'],\n",
       "  'spanish': ['Declaro reanudado el período de sesiones del Parlamento Europeo, interrumpido el 28 de marzo de 1996.'],\n",
       "  'french': ['Je déclare reprise la session du Parlement européen, qui avait été interrompue le jeudi 28 mars 1996.'],\n",
       "  'italian': ['Dichiaro ripresa la sessione del Parlamento europeo interrotta giovedì 28 marzo 1996.'],\n",
       "  'dutch': ['Ik verklaar de zitting van het Europees Parlement, die op donderdag 28 maart 1996 werd onderbroken, te zijn hervat.'],\n",
       "  'portuguese': ['Declaro reaberta a sessão do Parlamento Europeu, que tinha sido interrompida na quinta-feira, dia 28 de Março de 1996.']}}"
      ]
     },
     "execution_count": 3,
     "metadata": {},
     "output_type": "execute_result"
    }
   ],
   "source": [
    "next(costep.speeches())"
   ]
  },
  {
   "cell_type": "markdown",
   "id": "20b0a20c-ce22-47ae-b4e2-9d8b3cad04f4",
   "metadata": {},
   "source": [
    "---\n",
    "You can get sentence aligned data for a set of languages by calling `costep.sentences(lang1, lang2, ...)`."
   ]
  },
  {
   "cell_type": "code",
   "execution_count": 4,
   "id": "6605c919-95ed-4849-b25d-ba0e1ca6f572",
   "metadata": {},
   "outputs": [
    {
     "data": {
      "text/plain": [
       "{'english': 'I declare resumed the session of the European Parliament adjourned on Thursday, 28 March 1996.',\n",
       " 'german': 'Ich erkläre die am Donnerstag, den 28. März 1996 unterbrochene Sitzungsperiode des Europäischen Parlaments für wiederaufgenommen.',\n",
       " 'meta': {'session': '1996-04-15',\n",
       "  'chapter': '1',\n",
       "  'turn': '1',\n",
       "  'speaker': {'president': 'yes'}}}"
      ]
     },
     "execution_count": 4,
     "metadata": {},
     "output_type": "execute_result"
    }
   ],
   "source": [
    "next(costep.sentences(\"english\", \"german\"))"
   ]
  },
  {
   "cell_type": "markdown",
   "id": "2ed87cde-67fe-4139-a75d-70a6689eef2e",
   "metadata": {},
   "source": [
    "### Simple Filtering\n",
    "---"
   ]
  },
  {
   "cell_type": "markdown",
   "id": "c080fc4f-a8c7-401d-9065-7d212539a91b",
   "metadata": {},
   "source": [
    "Maybe you want to find english sentences that start with \"after all,\". One way to do this would be with `filter`."
   ]
  },
  {
   "cell_type": "code",
   "execution_count": 5,
   "id": "2d741ef9-8852-4868-8ce7-e818d705ada1",
   "metadata": {},
   "outputs": [
    {
     "data": {
      "text/plain": [
       "\u001b[0;31mInit signature:\u001b[0m \u001b[0mfilter\u001b[0m\u001b[0;34m(\u001b[0m\u001b[0mself\u001b[0m\u001b[0;34m,\u001b[0m \u001b[0;34m/\u001b[0m\u001b[0;34m,\u001b[0m \u001b[0;34m*\u001b[0m\u001b[0margs\u001b[0m\u001b[0;34m,\u001b[0m \u001b[0;34m**\u001b[0m\u001b[0mkwargs\u001b[0m\u001b[0;34m)\u001b[0m\u001b[0;34m\u001b[0m\u001b[0;34m\u001b[0m\u001b[0m\n",
       "\u001b[0;31mDocstring:\u001b[0m     \n",
       "filter(function or None, iterable) --> filter object\n",
       "\n",
       "Return an iterator yielding those items of iterable for which function(item)\n",
       "is true. If function is None, return the items that are true.\n",
       "\u001b[0;31mType:\u001b[0m           type\n",
       "\u001b[0;31mSubclasses:\u001b[0m     \n"
      ]
     },
     "metadata": {},
     "output_type": "display_data"
    }
   ],
   "source": [
    "filter?"
   ]
  },
  {
   "cell_type": "code",
   "execution_count": 6,
   "id": "3c45d563-737b-4990-9a65-4932e334c234",
   "metadata": {},
   "outputs": [
    {
     "data": {
      "text/plain": [
       "{'english': 'After all, we have in you an expert who is in any case closely concerned with these matters.',\n",
       " 'meta': {'session': '1996-04-15',\n",
       "  'chapter': '3',\n",
       "  'turn': '11',\n",
       "  'speaker': {'president': 'yes'}}}"
      ]
     },
     "execution_count": 6,
     "metadata": {},
     "output_type": "execute_result"
    }
   ],
   "source": [
    "def english_starts_with_after_all(dct):\n",
    "    return dct[\"english\"].lower().startswith(\"after all,\")\n",
    "\n",
    "\n",
    "next(\n",
    "    filter(\n",
    "        english_starts_with_after_all,\n",
    "        costep.sentences(\"english\")\n",
    "    )\n",
    ")"
   ]
  },
  {
   "cell_type": "markdown",
   "id": "155aa2b7-1a43-4e0b-b17b-6a60a25aad84",
   "metadata": {},
   "source": [
    "---\n",
    "However, this is somewhat cumbersome. Some common filters are included in the library to make tasks like this easier. We can perform the same search using the `language` and `starts_with` functions."
   ]
  },
  {
   "cell_type": "code",
   "execution_count": 7,
   "id": "cdd5f9f9-3ea7-4d63-906b-d55a11e420ba",
   "metadata": {},
   "outputs": [],
   "source": [
    "english = language(\"english\")"
   ]
  },
  {
   "cell_type": "code",
   "execution_count": 8,
   "id": "66d84870-93a5-465c-8b23-7b0cb684b76a",
   "metadata": {},
   "outputs": [
    {
     "data": {
      "text/plain": [
       "{'english': 'After all, we have in you an expert who is in any case closely concerned with these matters.',\n",
       " 'meta': {'session': '1996-04-15',\n",
       "  'chapter': '3',\n",
       "  'turn': '11',\n",
       "  'speaker': {'president': 'yes'}}}"
      ]
     },
     "execution_count": 8,
     "metadata": {},
     "output_type": "execute_result"
    }
   ],
   "source": [
    "next(\n",
    "    filter(\n",
    "        english(starts_with(\"after all,\")),\n",
    "        costep.sentences(\"english\")\n",
    "    )\n",
    ")"
   ]
  },
  {
   "cell_type": "code",
   "execution_count": 9,
   "id": "0ea84db2-fe87-4fd8-8e9f-61f295089b01",
   "metadata": {},
   "outputs": [
    {
     "data": {
      "text/plain": [
       "\u001b[0;31mSignature:\u001b[0m \u001b[0mlanguage\u001b[0m\u001b[0;34m(\u001b[0m\u001b[0mlang\u001b[0m\u001b[0;34m:\u001b[0m \u001b[0mstr\u001b[0m\u001b[0;34m)\u001b[0m \u001b[0;34m->\u001b[0m \u001b[0mCallable\u001b[0m\u001b[0;34m[\u001b[0m\u001b[0;34m[\u001b[0m\u001b[0mjadoch\u001b[0m\u001b[0;34m.\u001b[0m\u001b[0mcore\u001b[0m\u001b[0;34m.\u001b[0m\u001b[0mfunctional\u001b[0m\u001b[0;34m.\u001b[0m\u001b[0mFilter\u001b[0m\u001b[0;34m]\u001b[0m\u001b[0;34m,\u001b[0m \u001b[0mjadoch\u001b[0m\u001b[0;34m.\u001b[0m\u001b[0mcore\u001b[0m\u001b[0;34m.\u001b[0m\u001b[0mfunctional\u001b[0m\u001b[0;34m.\u001b[0m\u001b[0mFilter\u001b[0m\u001b[0;34m]\u001b[0m\u001b[0;34m\u001b[0m\u001b[0;34m\u001b[0m\u001b[0m\n",
       "\u001b[0;31mDocstring:\u001b[0m\n",
       "Creates a function that when given a filter will modify the input\n",
       "to apply to a particular language from the corpus.\n",
       "\n",
       "Args:\n",
       "    lang (str): The language for the filter (E.g.\"english\")\n",
       "\n",
       "Returns:\n",
       "    A function that will modify a filter to apply to that language.\n",
       "\n",
       "Examples:\n",
       "    >>> german = language(\"german\")\n",
       "    >>> next(filter(german(contains(\"ja\")), sentences(\"german\", \"english\")))\n",
       "    {'german': 'Wir haben ja mit Ihnen einen Experten, der ohnehin mit diesen...',\n",
       "     'english': 'After all, we have in you an expert who is in any case closely...',\n",
       "     'meta': {'session': '1996-04-15',\n",
       "      'chapter': '3',\n",
       "      'turn': '11',\n",
       "      'speaker': {'president': 'yes'}}}\n",
       "\u001b[0;31mFile:\u001b[0m      ~/dev/cogstates/jadoch/notebooks/jadoch/data/costep.py\n",
       "\u001b[0;31mType:\u001b[0m      function\n"
      ]
     },
     "metadata": {},
     "output_type": "display_data"
    }
   ],
   "source": [
    "language?"
   ]
  },
  {
   "cell_type": "code",
   "execution_count": 10,
   "id": "ca6da452-6bde-496f-9fc3-2ed3f90a96e6",
   "metadata": {},
   "outputs": [
    {
     "data": {
      "text/plain": [
       "\u001b[0;31mSignature:\u001b[0m \u001b[0mstarts_with\u001b[0m\u001b[0;34m(\u001b[0m\u001b[0mphrase\u001b[0m\u001b[0;34m:\u001b[0m \u001b[0mstr\u001b[0m\u001b[0;34m)\u001b[0m \u001b[0;34m->\u001b[0m \u001b[0mjadoch\u001b[0m\u001b[0;34m.\u001b[0m\u001b[0mcore\u001b[0m\u001b[0;34m.\u001b[0m\u001b[0mfunctional\u001b[0m\u001b[0;34m.\u001b[0m\u001b[0mFilter\u001b[0m\u001b[0;34m\u001b[0m\u001b[0;34m\u001b[0m\u001b[0m\n",
       "\u001b[0;31mDocstring:\u001b[0m\n",
       "Creates a filter that will search for sentences starting with the given phrase.\n",
       "\n",
       "Args:\n",
       "    phrase(str): A space delimited phrase to search for.\n",
       "\n",
       "Returns:\n",
       "    Filter: A filter which searches for sentences starting with that phrase.\n",
       "\u001b[0;31mFile:\u001b[0m      ~/dev/cogstates/jadoch/notebooks/jadoch/data/costep.py\n",
       "\u001b[0;31mType:\u001b[0m      function\n"
      ]
     },
     "metadata": {},
     "output_type": "display_data"
    }
   ],
   "source": [
    "starts_with?"
   ]
  },
  {
   "cell_type": "markdown",
   "id": "69616244-da57-45a3-8af3-d9e9f501d8dc",
   "metadata": {},
   "source": [
    "---\n",
    "Another useful filter is `contains`, which will find sentences that contain a particular phrase."
   ]
  },
  {
   "cell_type": "code",
   "execution_count": 11,
   "id": "16b03ff5-c258-4104-939d-654bdb5bfcca",
   "metadata": {},
   "outputs": [
    {
     "data": {
      "text/plain": [
       "{'english': 'As you know Madam President, ladies and gentlemen, a committee of inquiry has been set up to investigate fraud involving Community transit operations and its initial findings have already shown that there is a great deal of fraud and a great deal of effort required in the matter of TIR documents, computerizing the Community transit system, data exchange, and effective checks on these data.',\n",
       " 'meta': {'session': '1996-04-16',\n",
       "  'chapter': '2',\n",
       "  'turn': '3',\n",
       "  'speaker': {'president': 'no',\n",
       "   'name': 'Caudron',\n",
       "   'language': 'fr',\n",
       "   'forename': 'Gérard',\n",
       "   'surname': 'Caudron',\n",
       "   'country': 'FR',\n",
       "   'group': 'GUE/NGL',\n",
       "   'id': '407'}}}"
      ]
     },
     "execution_count": 11,
     "metadata": {},
     "output_type": "execute_result"
    }
   ],
   "source": [
    "next(\n",
    "    filter(\n",
    "        english(contains(\"you know\")),\n",
    "        costep.sentences(\"english\")\n",
    "    )\n",
    ")"
   ]
  },
  {
   "cell_type": "code",
   "execution_count": 12,
   "id": "c2eb3d7d-05b6-4f8b-ac72-a79dc7616838",
   "metadata": {},
   "outputs": [
    {
     "data": {
      "text/plain": [
       "\u001b[0;31mSignature:\u001b[0m \u001b[0mcontains\u001b[0m\u001b[0;34m(\u001b[0m\u001b[0mphrase\u001b[0m\u001b[0;34m:\u001b[0m \u001b[0mstr\u001b[0m\u001b[0;34m)\u001b[0m \u001b[0;34m->\u001b[0m \u001b[0mjadoch\u001b[0m\u001b[0;34m.\u001b[0m\u001b[0mcore\u001b[0m\u001b[0;34m.\u001b[0m\u001b[0mfunctional\u001b[0m\u001b[0;34m.\u001b[0m\u001b[0mFilter\u001b[0m\u001b[0;34m\u001b[0m\u001b[0;34m\u001b[0m\u001b[0m\n",
       "\u001b[0;31mDocstring:\u001b[0m\n",
       "Creates a filter that will search for sentences containing the given phrase.\n",
       "\n",
       "Args:\n",
       "    phrase (str): A space delimited phrase to search for.\n",
       "\n",
       "Returns:\n",
       "    Filter: A filter which searches sentences for that phrase.\n",
       "\u001b[0;31mFile:\u001b[0m      ~/dev/cogstates/jadoch/notebooks/jadoch/data/costep.py\n",
       "\u001b[0;31mType:\u001b[0m      function\n"
      ]
     },
     "metadata": {},
     "output_type": "display_data"
    }
   ],
   "source": [
    "contains?"
   ]
  },
  {
   "cell_type": "markdown",
   "id": "5d8feafa-48e0-4640-bc13-df12a0fb8623",
   "metadata": {},
   "source": [
    "---\n",
    "There is also the builtin filter `speaker` which lets you search for sentences that were originally spoken in a particular language."
   ]
  },
  {
   "cell_type": "code",
   "execution_count": 13,
   "id": "50c87af2-3fca-43b4-8b91-649b9298509c",
   "metadata": {},
   "outputs": [
    {
     "data": {
      "text/plain": [
       "{'english': 'Mr President, it concerns the speech made last week by Mr Fischler on BSE and reported in the Minutes.',\n",
       " 'german': 'Es geht um die Erklärung von Herrn Fischler zu BSE, die im Protokoll festgehalten wurde.',\n",
       " 'meta': {'session': '1996-04-15',\n",
       "  'chapter': '3',\n",
       "  'turn': '4',\n",
       "  'speaker': {'president': 'no',\n",
       "   'name': 'Sturdy',\n",
       "   'language': 'en',\n",
       "   'forename': 'Robert',\n",
       "   'surname': 'Sturdy',\n",
       "   'country': 'GB',\n",
       "   'group': 'ECR',\n",
       "   'id': '2306'}}}"
      ]
     },
     "execution_count": 13,
     "metadata": {},
     "output_type": "execute_result"
    }
   ],
   "source": [
    "next(filter(speaker(\"english\"), costep.sentences(\"english\", \"german\")))"
   ]
  },
  {
   "cell_type": "code",
   "execution_count": 14,
   "id": "fff16aaa-95f1-425a-9cf8-e04e43948721",
   "metadata": {},
   "outputs": [
    {
     "data": {
      "text/plain": [
       "\u001b[0;31mSignature:\u001b[0m \u001b[0mspeaker\u001b[0m\u001b[0;34m(\u001b[0m\u001b[0mlang\u001b[0m\u001b[0;34m:\u001b[0m \u001b[0mstr\u001b[0m\u001b[0;34m)\u001b[0m \u001b[0;34m->\u001b[0m \u001b[0mjadoch\u001b[0m\u001b[0;34m.\u001b[0m\u001b[0mcore\u001b[0m\u001b[0;34m.\u001b[0m\u001b[0mfunctional\u001b[0m\u001b[0;34m.\u001b[0m\u001b[0mFilter\u001b[0m\u001b[0;34m\u001b[0m\u001b[0;34m\u001b[0m\u001b[0m\n",
       "\u001b[0;31mDocstring:\u001b[0m\n",
       "Creates a filter that will search for sentences where the speaker was\n",
       "originally speaking the given language.\n",
       "\n",
       "Args:\n",
       "    lang (str): The language for the filter (E.g. \"german\", \"German\", \"de\", \"DE\")\n",
       "\n",
       "Returns:\n",
       "    Filter: A filter which searches for sentences originally spoken in that language.\n",
       "\u001b[0;31mFile:\u001b[0m      ~/dev/cogstates/jadoch/notebooks/jadoch/data/costep.py\n",
       "\u001b[0;31mType:\u001b[0m      function\n"
      ]
     },
     "metadata": {},
     "output_type": "display_data"
    }
   ],
   "source": [
    "speaker?"
   ]
  },
  {
   "cell_type": "markdown",
   "id": "eeaa64b4-a0c0-4273-91c6-287add31b3b8",
   "metadata": {},
   "source": [
    "### Advanced Filtering\n",
    "---\n",
    "\n",
    "Something notable is that the objects returns by these filters described above are special. They support composition through logical operations including and-ing (&), or-ing (|), and inversion (~) making them very powerful."
   ]
  },
  {
   "cell_type": "code",
   "execution_count": 15,
   "id": "967e6902-2416-4782-a098-b739fb6e32f0",
   "metadata": {},
   "outputs": [
    {
     "data": {
      "text/plain": [
       "<jadoch.core.functional.Filter at 0x131a43100>"
      ]
     },
     "execution_count": 15,
     "metadata": {},
     "output_type": "execute_result"
    }
   ],
   "source": [
    "(contains(\"ja\") | contains(\"doch\")) & ~contains(\"haben\")"
   ]
  },
  {
   "cell_type": "markdown",
   "id": "a942c1de-3fae-4982-87a4-77915004166b",
   "metadata": {},
   "source": [
    "Say, for example, you want german sentences containing \"ja\" where the english sentence does not contain \"yes\"."
   ]
  },
  {
   "cell_type": "code",
   "execution_count": 16,
   "id": "a54584f9-e79d-4bf6-9114-199b8300f660",
   "metadata": {},
   "outputs": [],
   "source": [
    "german = language(\"german\")"
   ]
  },
  {
   "cell_type": "code",
   "execution_count": 17,
   "id": "b5a9f57c-54a1-4028-8c81-85b2eeb49b62",
   "metadata": {},
   "outputs": [
    {
     "data": {
      "text/plain": [
       "{'english': 'After all, we have in you an expert who is in any case closely concerned with these matters.',\n",
       " 'german': 'Wir haben ja mit Ihnen einen Experten, der ohnehin mit diesen Fragen eng befaßt ist.',\n",
       " 'meta': {'session': '1996-04-15',\n",
       "  'chapter': '3',\n",
       "  'turn': '11',\n",
       "  'speaker': {'president': 'yes'}}}"
      ]
     },
     "execution_count": 17,
     "metadata": {},
     "output_type": "execute_result"
    }
   ],
   "source": [
    "# Note the `~` to indicate english sentences that do NOT contain \"yes\".\n",
    "fltr = german(contains(\"ja\")) & ~english(contains(\"yes\"))\n",
    "# Using the filter just like before.\n",
    "next(filter(fltr, costep.sentences(\"english\", \"german\")))"
   ]
  },
  {
   "cell_type": "markdown",
   "id": "d07ac3a6-c6c3-452f-8f55-e690efa3fe3b",
   "metadata": {},
   "source": [
    "Suppose you want to get all the sentences the previous filter didn't match. This task, which might be useful for creating a training data, becomes easy."
   ]
  },
  {
   "cell_type": "code",
   "execution_count": 18,
   "id": "dbd50283-ea48-4abf-af7a-594d0880ea47",
   "metadata": {},
   "outputs": [
    {
     "data": {
      "text/plain": [
       "{'english': 'I declare resumed the session of the European Parliament adjourned on Thursday, 28 March 1996.',\n",
       " 'german': 'Ich erkläre die am Donnerstag, den 28. März 1996 unterbrochene Sitzungsperiode des Europäischen Parlaments für wiederaufgenommen.',\n",
       " 'meta': {'session': '1996-04-15',\n",
       "  'chapter': '1',\n",
       "  'turn': '1',\n",
       "  'speaker': {'president': 'yes'}}}"
      ]
     },
     "execution_count": 18,
     "metadata": {},
     "output_type": "execute_result"
    }
   ],
   "source": [
    "next(filter(~fltr, costep.sentences(\"english\", \"german\")))"
   ]
  },
  {
   "cell_type": "markdown",
   "id": "fbc6662e-0d6b-4c55-87b0-aad7c259705b",
   "metadata": {},
   "source": [
    "### Creating Custom Filters\n",
    "---\n",
    "A simple one might be to check if the speaker was president."
   ]
  },
  {
   "cell_type": "code",
   "execution_count": 19,
   "id": "7f14b301-97e9-4ffa-96cb-84aca9604595",
   "metadata": {},
   "outputs": [],
   "source": [
    "def president(dct):\n",
    "    return dct[\"meta\"][\"speaker\"].get(\"president\") == \"yes\""
   ]
  },
  {
   "cell_type": "code",
   "execution_count": 20,
   "id": "a6f30d6c-f8e1-46b1-a9e7-cb186671c52e",
   "metadata": {},
   "outputs": [
    {
     "data": {
      "text/plain": [
       "{'english': 'I declare resumed the session of the European Parliament adjourned on Thursday, 28 March 1996.',\n",
       " 'meta': {'session': '1996-04-15',\n",
       "  'chapter': '1',\n",
       "  'turn': '1',\n",
       "  'speaker': {'president': 'yes'}}}"
      ]
     },
     "execution_count": 20,
     "metadata": {},
     "output_type": "execute_result"
    }
   ],
   "source": [
    "next(filter(president, costep.sentences(\"english\")))"
   ]
  },
  {
   "cell_type": "markdown",
   "id": "77623e16-a76a-4b09-932c-b06fc54882c1",
   "metadata": {},
   "source": [
    "However, you will find that this version of the filter does not support inversion."
   ]
  },
  {
   "cell_type": "code",
   "execution_count": 21,
   "id": "62ebe7e6-fcad-47e5-8373-f4f7ba54cda2",
   "metadata": {},
   "outputs": [
    {
     "ename": "TypeError",
     "evalue": "bad operand type for unary ~: 'function'",
     "output_type": "error",
     "traceback": [
      "\u001b[0;31m---------------------------------------------------------------------------\u001b[0m",
      "\u001b[0;31mTypeError\u001b[0m                                 Traceback (most recent call last)",
      "\u001b[0;32m/var/folders/fl/mckg7f5d68b77xn7_m80s7_w0000gn/T/ipykernel_24318/4165621324.py\u001b[0m in \u001b[0;36m<module>\u001b[0;34m\u001b[0m\n\u001b[0;32m----> 1\u001b[0;31m \u001b[0mnext\u001b[0m\u001b[0;34m(\u001b[0m\u001b[0mfilter\u001b[0m\u001b[0;34m(\u001b[0m\u001b[0;34m~\u001b[0m\u001b[0mpresident\u001b[0m\u001b[0;34m,\u001b[0m \u001b[0mcostep\u001b[0m\u001b[0;34m.\u001b[0m\u001b[0msentences\u001b[0m\u001b[0;34m(\u001b[0m\u001b[0;34m\"english\"\u001b[0m\u001b[0;34m)\u001b[0m\u001b[0;34m)\u001b[0m\u001b[0;34m)\u001b[0m\u001b[0;34m\u001b[0m\u001b[0;34m\u001b[0m\u001b[0m\n\u001b[0m",
      "\u001b[0;31mTypeError\u001b[0m: bad operand type for unary ~: 'function'"
     ]
    }
   ],
   "source": [
    "next(filter(~president, costep.sentences(\"english\")))"
   ]
  },
  {
   "cell_type": "markdown",
   "id": "d08c5303-493d-438a-8d6a-2eda47533aea",
   "metadata": {},
   "source": [
    "To fix this we need to use the library's `Filter` class."
   ]
  },
  {
   "cell_type": "code",
   "execution_count": 22,
   "id": "0b39dbdc-180b-4e9c-a077-1f3dee51c3fe",
   "metadata": {},
   "outputs": [],
   "source": [
    "from jadoch.core.functional import Filter"
   ]
  },
  {
   "cell_type": "code",
   "execution_count": 23,
   "id": "4c4e13b9-2d3f-4446-b97f-38b9a62d51aa",
   "metadata": {},
   "outputs": [],
   "source": [
    "president = Filter(lambda dct: dct[\"meta\"][\"speaker\"].get(\"president\") == \"yes\")"
   ]
  },
  {
   "cell_type": "code",
   "execution_count": 24,
   "id": "9a78cd57-744d-4ca0-87d3-dfdd49066c9b",
   "metadata": {},
   "outputs": [
    {
     "data": {
      "text/plain": [
       "{'english': 'Mr President, on behalf of my fellow-members from the Committee on Agriculture I should like to ask you to change a few things in the voting about the BSE resolution.',\n",
       " 'meta': {'session': '1996-04-15',\n",
       "  'chapter': '3',\n",
       "  'turn': '2',\n",
       "  'speaker': {'president': 'no',\n",
       "   'name': 'Oomen-Ruijten',\n",
       "   'language': 'nl',\n",
       "   'forename': 'Ria',\n",
       "   'surname': 'Oomen-Ruijten',\n",
       "   'country': 'NL',\n",
       "   'group': 'PPE',\n",
       "   'id': '1765'}}}"
      ]
     },
     "execution_count": 24,
     "metadata": {},
     "output_type": "execute_result"
    }
   ],
   "source": [
    "next(filter(~president, costep.sentences(\"english\")))"
   ]
  },
  {
   "cell_type": "markdown",
   "id": "8270b78f-d5a6-4f63-a96f-7047c4ee6e89",
   "metadata": {},
   "source": [
    "This can be written equivalently in decorator notation if you prefer."
   ]
  },
  {
   "cell_type": "code",
   "execution_count": 25,
   "id": "be11c8e7-dcaa-4531-9a7e-02129aced545",
   "metadata": {},
   "outputs": [],
   "source": [
    "@Filter\n",
    "def president(dct):\n",
    "    return dct[\"meta\"][\"speaker\"].get(\"president\") == \"yes\""
   ]
  },
  {
   "cell_type": "code",
   "execution_count": 26,
   "id": "a59a58a1-e286-4ecf-94c7-98fc19fc7d38",
   "metadata": {},
   "outputs": [
    {
     "data": {
      "text/plain": [
       "{'english': 'Mr President, on behalf of my fellow-members from the Committee on Agriculture I should like to ask you to change a few things in the voting about the BSE resolution.',\n",
       " 'meta': {'session': '1996-04-15',\n",
       "  'chapter': '3',\n",
       "  'turn': '2',\n",
       "  'speaker': {'president': 'no',\n",
       "   'name': 'Oomen-Ruijten',\n",
       "   'language': 'nl',\n",
       "   'forename': 'Ria',\n",
       "   'surname': 'Oomen-Ruijten',\n",
       "   'country': 'NL',\n",
       "   'group': 'PPE',\n",
       "   'id': '1765'}}}"
      ]
     },
     "execution_count": 26,
     "metadata": {},
     "output_type": "execute_result"
    }
   ],
   "source": [
    "next(filter(~president, costep.sentences(\"english\")))"
   ]
  },
  {
   "cell_type": "markdown",
   "id": "aa08cec1-a9d9-4f20-ba9b-f637af049e1d",
   "metadata": {},
   "source": [
    "---\n",
    "Suppose we want to make a filter that interfaces with the `language` function and finds sentences which end with a particular string. Keeping in mind that the language function feeds our filter a list of words we can write something like this."
   ]
  },
  {
   "cell_type": "code",
   "execution_count": 27,
   "id": "67b68c97-52ac-4f2e-be87-4a15fdc1f701",
   "metadata": {},
   "outputs": [],
   "source": [
    "def ends_with(phrase):\n",
    "    phr = phrase.lower().split()\n",
    "    def fltr(sent):\n",
    "        return sent[-len(phr) :] == phr\n",
    "    return Filter(fltr)"
   ]
  },
  {
   "cell_type": "code",
   "execution_count": 28,
   "id": "cdb10c05-c9f5-4d4d-942e-c8decfd00575",
   "metadata": {},
   "outputs": [
    {
     "data": {
      "text/plain": [
       "{'english': 'After all, we have in you an expert who is in any case closely concerned with these matters.',\n",
       " 'meta': {'session': '1996-04-15',\n",
       "  'chapter': '3',\n",
       "  'turn': '11',\n",
       "  'speaker': {'president': 'yes'}}}"
      ]
     },
     "execution_count": 28,
     "metadata": {},
     "output_type": "execute_result"
    }
   ],
   "source": [
    "next(filter(english(ends_with(\"these matters.\")), costep.sentences(\"english\")))"
   ]
  },
  {
   "cell_type": "code",
   "execution_count": null,
   "id": "35586101-88e7-41d9-aff3-8c9f72819177",
   "metadata": {},
   "outputs": [],
   "source": []
  }
 ],
 "metadata": {
  "kernelspec": {
   "display_name": "Python 3 (ipykernel)",
   "language": "python",
   "name": "python3"
  },
  "language_info": {
   "codemirror_mode": {
    "name": "ipython",
    "version": 3
   },
   "file_extension": ".py",
   "mimetype": "text/x-python",
   "name": "python",
   "nbconvert_exporter": "python",
   "pygments_lexer": "ipython3",
   "version": "3.9.1"
  }
 },
 "nbformat": 4,
 "nbformat_minor": 5
}
